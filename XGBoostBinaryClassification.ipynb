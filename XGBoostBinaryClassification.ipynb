{
 "cells": [
  {
   "cell_type": "code",
   "execution_count": 54,
   "id": "63904576-ef18-4b2f-b7a8-8283b183976e",
   "metadata": {},
   "outputs": [],
   "source": [
    "import numpy as np\n",
    "import pandas as pd\n",
    "import xgboost as xgb\n",
    "from sklearn.model_selection import train_test_split\n",
    "import time\n",
    "from sklearn.metrics import accuracy_score\n",
    "import matplotlib.pyplot as plt\n",
    "import seaborn as sns\n",
    "from sklearn.metrics import confusion_matrix"
   ]
  },
  {
   "cell_type": "code",
   "execution_count": 72,
   "id": "ff724b5f-2218-4da2-90f6-6fdd8b8bde94",
   "metadata": {},
   "outputs": [],
   "source": [
    "import kagglehub\n",
    "\n",
    "# Download latest version\n",
    "path = kagglehub.dataset_download(\"asinow/diabetes-dataset\")\n"
   ]
  },
  {
   "cell_type": "markdown",
   "id": "d564dffd-3723-4e0b-b2e3-164713ef83c7",
   "metadata": {},
   "source": [
    "# Prepping data"
   ]
  },
  {
   "cell_type": "markdown",
   "id": "fb38aed6-bf45-4923-afad-4d41e55d1295",
   "metadata": {},
   "source": [
    "Our goal is to predict diabetes or not (Outcome = 1 or 0 respectively) and we'll try out XGBoost."
   ]
  },
  {
   "cell_type": "markdown",
   "id": "1e39212f-27ed-4069-b10c-838c503053e3",
   "metadata": {},
   "source": [
    "Dataset details available here: https://www.kaggle.com/datasets/asinow/diabetes-dataset?resource=download"
   ]
  },
  {
   "cell_type": "code",
   "execution_count": 10,
   "id": "63f3baf5-28ee-4873-b1e2-39df050d7a81",
   "metadata": {},
   "outputs": [],
   "source": [
    "data = pd.read_csv(path + \"\\\\diabetes_dataset.csv\")"
   ]
  },
  {
   "cell_type": "code",
   "execution_count": 11,
   "id": "925cd5f6-b586-4f61-960a-dc68275796b2",
   "metadata": {},
   "outputs": [
    {
     "data": {
      "text/html": [
       "<div>\n",
       "<style scoped>\n",
       "    .dataframe tbody tr th:only-of-type {\n",
       "        vertical-align: middle;\n",
       "    }\n",
       "\n",
       "    .dataframe tbody tr th {\n",
       "        vertical-align: top;\n",
       "    }\n",
       "\n",
       "    .dataframe thead th {\n",
       "        text-align: right;\n",
       "    }\n",
       "</style>\n",
       "<table border=\"1\" class=\"dataframe\">\n",
       "  <thead>\n",
       "    <tr style=\"text-align: right;\">\n",
       "      <th></th>\n",
       "      <th>Age</th>\n",
       "      <th>Pregnancies</th>\n",
       "      <th>BMI</th>\n",
       "      <th>Glucose</th>\n",
       "      <th>BloodPressure</th>\n",
       "      <th>HbA1c</th>\n",
       "      <th>LDL</th>\n",
       "      <th>HDL</th>\n",
       "      <th>Triglycerides</th>\n",
       "      <th>WaistCircumference</th>\n",
       "      <th>HipCircumference</th>\n",
       "      <th>WHR</th>\n",
       "      <th>FamilyHistory</th>\n",
       "      <th>DietType</th>\n",
       "      <th>Hypertension</th>\n",
       "      <th>MedicationUse</th>\n",
       "      <th>Outcome</th>\n",
       "    </tr>\n",
       "  </thead>\n",
       "  <tbody>\n",
       "    <tr>\n",
       "      <th>0</th>\n",
       "      <td>69</td>\n",
       "      <td>5</td>\n",
       "      <td>28.39</td>\n",
       "      <td>130.1</td>\n",
       "      <td>77.0</td>\n",
       "      <td>5.4</td>\n",
       "      <td>130.4</td>\n",
       "      <td>44.0</td>\n",
       "      <td>50.0</td>\n",
       "      <td>90.5</td>\n",
       "      <td>107.9</td>\n",
       "      <td>0.84</td>\n",
       "      <td>0</td>\n",
       "      <td>0</td>\n",
       "      <td>0</td>\n",
       "      <td>1</td>\n",
       "      <td>0</td>\n",
       "    </tr>\n",
       "    <tr>\n",
       "      <th>1</th>\n",
       "      <td>32</td>\n",
       "      <td>1</td>\n",
       "      <td>26.49</td>\n",
       "      <td>116.5</td>\n",
       "      <td>72.0</td>\n",
       "      <td>4.5</td>\n",
       "      <td>87.4</td>\n",
       "      <td>54.2</td>\n",
       "      <td>129.9</td>\n",
       "      <td>113.3</td>\n",
       "      <td>81.4</td>\n",
       "      <td>1.39</td>\n",
       "      <td>0</td>\n",
       "      <td>0</td>\n",
       "      <td>0</td>\n",
       "      <td>0</td>\n",
       "      <td>0</td>\n",
       "    </tr>\n",
       "    <tr>\n",
       "      <th>2</th>\n",
       "      <td>89</td>\n",
       "      <td>13</td>\n",
       "      <td>25.34</td>\n",
       "      <td>101.0</td>\n",
       "      <td>82.0</td>\n",
       "      <td>4.9</td>\n",
       "      <td>112.5</td>\n",
       "      <td>56.8</td>\n",
       "      <td>177.6</td>\n",
       "      <td>84.7</td>\n",
       "      <td>107.2</td>\n",
       "      <td>0.79</td>\n",
       "      <td>0</td>\n",
       "      <td>0</td>\n",
       "      <td>0</td>\n",
       "      <td>1</td>\n",
       "      <td>0</td>\n",
       "    </tr>\n",
       "    <tr>\n",
       "      <th>3</th>\n",
       "      <td>78</td>\n",
       "      <td>13</td>\n",
       "      <td>29.91</td>\n",
       "      <td>146.0</td>\n",
       "      <td>104.0</td>\n",
       "      <td>5.7</td>\n",
       "      <td>50.7</td>\n",
       "      <td>39.1</td>\n",
       "      <td>117.0</td>\n",
       "      <td>108.9</td>\n",
       "      <td>110.0</td>\n",
       "      <td>0.99</td>\n",
       "      <td>0</td>\n",
       "      <td>0</td>\n",
       "      <td>0</td>\n",
       "      <td>1</td>\n",
       "      <td>1</td>\n",
       "    </tr>\n",
       "    <tr>\n",
       "      <th>4</th>\n",
       "      <td>38</td>\n",
       "      <td>8</td>\n",
       "      <td>24.56</td>\n",
       "      <td>103.2</td>\n",
       "      <td>74.0</td>\n",
       "      <td>4.7</td>\n",
       "      <td>102.5</td>\n",
       "      <td>29.1</td>\n",
       "      <td>145.9</td>\n",
       "      <td>84.1</td>\n",
       "      <td>92.8</td>\n",
       "      <td>0.91</td>\n",
       "      <td>0</td>\n",
       "      <td>1</td>\n",
       "      <td>0</td>\n",
       "      <td>0</td>\n",
       "      <td>0</td>\n",
       "    </tr>\n",
       "  </tbody>\n",
       "</table>\n",
       "</div>"
      ],
      "text/plain": [
       "   Age  Pregnancies    BMI  Glucose  BloodPressure  HbA1c    LDL   HDL  \\\n",
       "0   69            5  28.39    130.1           77.0    5.4  130.4  44.0   \n",
       "1   32            1  26.49    116.5           72.0    4.5   87.4  54.2   \n",
       "2   89           13  25.34    101.0           82.0    4.9  112.5  56.8   \n",
       "3   78           13  29.91    146.0          104.0    5.7   50.7  39.1   \n",
       "4   38            8  24.56    103.2           74.0    4.7  102.5  29.1   \n",
       "\n",
       "   Triglycerides  WaistCircumference  HipCircumference   WHR  FamilyHistory  \\\n",
       "0           50.0                90.5             107.9  0.84              0   \n",
       "1          129.9               113.3              81.4  1.39              0   \n",
       "2          177.6                84.7             107.2  0.79              0   \n",
       "3          117.0               108.9             110.0  0.99              0   \n",
       "4          145.9                84.1              92.8  0.91              0   \n",
       "\n",
       "   DietType  Hypertension  MedicationUse  Outcome  \n",
       "0         0             0              1        0  \n",
       "1         0             0              0        0  \n",
       "2         0             0              1        0  \n",
       "3         0             0              1        1  \n",
       "4         1             0              0        0  "
      ]
     },
     "execution_count": 11,
     "metadata": {},
     "output_type": "execute_result"
    }
   ],
   "source": [
    "data.head()"
   ]
  },
  {
   "cell_type": "code",
   "execution_count": 14,
   "id": "69bf7f77-e3ac-4d3b-b0cc-7f83d55d0f70",
   "metadata": {},
   "outputs": [
    {
     "name": "stdout",
     "output_type": "stream",
     "text": [
      "<class 'pandas.core.frame.DataFrame'>\n",
      "RangeIndex: 9538 entries, 0 to 9537\n",
      "Data columns (total 17 columns):\n",
      " #   Column              Non-Null Count  Dtype  \n",
      "---  ------              --------------  -----  \n",
      " 0   Age                 9538 non-null   int64  \n",
      " 1   Pregnancies         9538 non-null   int64  \n",
      " 2   BMI                 9538 non-null   float64\n",
      " 3   Glucose             9538 non-null   float64\n",
      " 4   BloodPressure       9538 non-null   float64\n",
      " 5   HbA1c               9538 non-null   float64\n",
      " 6   LDL                 9538 non-null   float64\n",
      " 7   HDL                 9538 non-null   float64\n",
      " 8   Triglycerides       9538 non-null   float64\n",
      " 9   WaistCircumference  9538 non-null   float64\n",
      " 10  HipCircumference    9538 non-null   float64\n",
      " 11  WHR                 9538 non-null   float64\n",
      " 12  FamilyHistory       9538 non-null   int64  \n",
      " 13  DietType            9538 non-null   int64  \n",
      " 14  Hypertension        9538 non-null   int64  \n",
      " 15  MedicationUse       9538 non-null   int64  \n",
      " 16  Outcome             9538 non-null   int64  \n",
      "dtypes: float64(10), int64(7)\n",
      "memory usage: 1.2 MB\n",
      "None\n"
     ]
    }
   ],
   "source": [
    "print(data.info())"
   ]
  },
  {
   "cell_type": "code",
   "execution_count": 15,
   "id": "52074c72-4807-4c26-96c8-23477c5c1163",
   "metadata": {},
   "outputs": [
    {
     "name": "stdout",
     "output_type": "stream",
     "text": [
      "               Age  Pregnancies          BMI      Glucose  BloodPressure  \\\n",
      "count  9538.000000  9538.000000  9538.000000  9538.000000    9538.000000   \n",
      "mean     53.577584     7.986161    27.052364   106.104183      84.475781   \n",
      "std      20.764651     4.933469     5.927955    21.918590      14.123480   \n",
      "min      18.000000     0.000000    15.000000    50.000000      60.000000   \n",
      "25%      36.000000     4.000000    22.870000    91.000000      74.000000   \n",
      "50%      53.000000     8.000000    27.050000   106.000000      84.000000   \n",
      "75%      72.000000    12.000000    31.180000   121.000000      94.000000   \n",
      "max      89.000000    16.000000    49.660000   207.200000     138.000000   \n",
      "\n",
      "             HbA1c          LDL          HDL  Triglycerides  \\\n",
      "count  9538.000000  9538.000000  9538.000000    9538.000000   \n",
      "mean      4.650661   100.133456    49.953418     151.147746   \n",
      "std       0.476395    29.911910    15.242194      48.951627   \n",
      "min       4.000000   -12.000000    -9.200000      50.000000   \n",
      "25%       4.300000    80.100000    39.700000     117.200000   \n",
      "50%       4.600000    99.900000    50.200000     150.550000   \n",
      "75%       5.000000   120.200000    60.200000     185.100000   \n",
      "max       6.900000   202.200000   107.800000     345.800000   \n",
      "\n",
      "       WaistCircumference  HipCircumference          WHR  FamilyHistory  \\\n",
      "count         9538.000000       9538.000000  9538.000000    9538.000000   \n",
      "mean            93.951678        103.060621     0.917400       0.302474   \n",
      "std             15.594468         13.438827     0.140828       0.459354   \n",
      "min             40.300000         54.800000     0.420000       0.000000   \n",
      "25%             83.400000         94.000000     0.820000       0.000000   \n",
      "50%             93.800000        103.200000     0.910000       0.000000   \n",
      "75%            104.600000        112.100000     1.010000       1.000000   \n",
      "max            163.000000        156.600000     1.490000       1.000000   \n",
      "\n",
      "          DietType  Hypertension  MedicationUse      Outcome  \n",
      "count  9538.000000   9538.000000    9538.000000  9538.000000  \n",
      "mean      0.486161      0.001048       0.405012     0.344097  \n",
      "std       0.661139      0.032364       0.490920     0.475098  \n",
      "min       0.000000      0.000000       0.000000     0.000000  \n",
      "25%       0.000000      0.000000       0.000000     0.000000  \n",
      "50%       0.000000      0.000000       0.000000     0.000000  \n",
      "75%       1.000000      0.000000       1.000000     1.000000  \n",
      "max       2.000000      1.000000       1.000000     1.000000  \n"
     ]
    }
   ],
   "source": [
    "print(data.describe())"
   ]
  },
  {
   "cell_type": "markdown",
   "id": "7aa7398b-bc14-4ed1-add4-9e24e8d4925d",
   "metadata": {},
   "source": [
    "We'll need to remove the negative values for HDL and LDL. As these represent levels of lipoprotein in the blood, they can't be negative."
   ]
  },
  {
   "cell_type": "code",
   "execution_count": 23,
   "id": "479d05e0-eebd-427e-bd99-3e3396bc17cb",
   "metadata": {},
   "outputs": [
    {
     "name": "stdout",
     "output_type": "stream",
     "text": [
      "There are 5 rows where LDL is negative.\n",
      "There are 6 rows where HDL is negative.\n",
      "There are 0 remaining rows where HDL or LDL is negative.\n"
     ]
    }
   ],
   "source": [
    "# There are only a few rows with negative values so I'll just drop them.\n",
    "print(f\"There are {len(data[data['LDL'] <0])} rows where LDL is negative.\")\n",
    "print(f\"There are {len(data[data['HDL'] <0])} rows where HDL is negative.\")\n",
    "\n",
    "\n",
    "data = data[(data['LDL'] >= 0) & (data['HDL'] >= 0)]\n",
    "\n",
    "data.reset_index(drop=True, inplace=True)\n",
    "\n",
    "print(f\"There are {len(data[(data['LDL'] < 0) | (data['HDL'] < 0)])} remaining rows where HDL or LDL is negative.\")"
   ]
  },
  {
   "cell_type": "markdown",
   "id": "914fbf3e-ded3-40d0-a6f7-f8160b4dd38b",
   "metadata": {},
   "source": [
    "Features do not need to be normalized because XGBoost w/ classification is a tree-based algorithm which splits data on thresholds rather than absolute values."
   ]
  },
  {
   "cell_type": "markdown",
   "id": "691af747-bb1d-4e00-a766-950a0b3a3f44",
   "metadata": {},
   "source": [
    "We'll check to see if the target feature is balanced or not."
   ]
  },
  {
   "cell_type": "code",
   "execution_count": 27,
   "id": "8b159db7-f02f-4f71-b5ae-49e3e0167f3a",
   "metadata": {
    "scrolled": true
   },
   "outputs": [
    {
     "name": "stdout",
     "output_type": "stream",
     "text": [
      "There are 6247 0 target values, and 3280.\n",
      "A ratio of 1.9045731707317073:1.\n"
     ]
    }
   ],
   "source": [
    "zeroes = data['Outcome'].value_counts()[0]\n",
    "ones = data['Outcome'].value_counts()[1]\n",
    "\n",
    "print(f\"There are {zeroes} 0 target values, and {ones}.\\nA ratio of {zeroes/ones}:1.\")"
   ]
  },
  {
   "cell_type": "markdown",
   "id": "a3fc937c-7f2a-4f55-a0d4-9c7411b63d3b",
   "metadata": {},
   "source": [
    "There are roughly twice the number of 0's as 1's, so we may want to add a weight to account for this."
   ]
  },
  {
   "cell_type": "markdown",
   "id": "845728a7-5a01-4fe9-927c-606657daa702",
   "metadata": {},
   "source": [
    "From the dataset description, the values 0, 1, 2 in the DietType feature represent unbalanced, balance, and vegan/vegetarian respectively. Because these are categorical values, we'll one-hot encode them."
   ]
  },
  {
   "cell_type": "code",
   "execution_count": 29,
   "id": "67facf3d-9684-4b70-b77c-cfa2802a5f70",
   "metadata": {},
   "outputs": [
    {
     "name": "stdout",
     "output_type": "stream",
     "text": [
      "Values of DietType feature: [0 1 2]\n"
     ]
    }
   ],
   "source": [
    "print(f\"Values of DietType feature: {data['DietType'].unique()}\")"
   ]
  },
  {
   "cell_type": "code",
   "execution_count": 30,
   "id": "9b4e6387-63a9-4c6f-983a-d3879bdf24c7",
   "metadata": {},
   "outputs": [],
   "source": [
    "data = pd.get_dummies(data, columns=['DietType'], prefix='DietType')"
   ]
  },
  {
   "cell_type": "code",
   "execution_count": 33,
   "id": "c285d362-4dde-4e42-96b2-c4ebdbda18a1",
   "metadata": {},
   "outputs": [
    {
     "data": {
      "text/html": [
       "<div>\n",
       "<style scoped>\n",
       "    .dataframe tbody tr th:only-of-type {\n",
       "        vertical-align: middle;\n",
       "    }\n",
       "\n",
       "    .dataframe tbody tr th {\n",
       "        vertical-align: top;\n",
       "    }\n",
       "\n",
       "    .dataframe thead th {\n",
       "        text-align: right;\n",
       "    }\n",
       "</style>\n",
       "<table border=\"1\" class=\"dataframe\">\n",
       "  <thead>\n",
       "    <tr style=\"text-align: right;\">\n",
       "      <th></th>\n",
       "      <th>DietType_0</th>\n",
       "      <th>DietType_1</th>\n",
       "      <th>DietType_2</th>\n",
       "    </tr>\n",
       "  </thead>\n",
       "  <tbody>\n",
       "    <tr>\n",
       "      <th>0</th>\n",
       "      <td>True</td>\n",
       "      <td>False</td>\n",
       "      <td>False</td>\n",
       "    </tr>\n",
       "    <tr>\n",
       "      <th>1</th>\n",
       "      <td>True</td>\n",
       "      <td>False</td>\n",
       "      <td>False</td>\n",
       "    </tr>\n",
       "    <tr>\n",
       "      <th>2</th>\n",
       "      <td>True</td>\n",
       "      <td>False</td>\n",
       "      <td>False</td>\n",
       "    </tr>\n",
       "    <tr>\n",
       "      <th>3</th>\n",
       "      <td>True</td>\n",
       "      <td>False</td>\n",
       "      <td>False</td>\n",
       "    </tr>\n",
       "    <tr>\n",
       "      <th>4</th>\n",
       "      <td>False</td>\n",
       "      <td>True</td>\n",
       "      <td>False</td>\n",
       "    </tr>\n",
       "    <tr>\n",
       "      <th>...</th>\n",
       "      <td>...</td>\n",
       "      <td>...</td>\n",
       "      <td>...</td>\n",
       "    </tr>\n",
       "    <tr>\n",
       "      <th>9522</th>\n",
       "      <td>True</td>\n",
       "      <td>False</td>\n",
       "      <td>False</td>\n",
       "    </tr>\n",
       "    <tr>\n",
       "      <th>9523</th>\n",
       "      <td>True</td>\n",
       "      <td>False</td>\n",
       "      <td>False</td>\n",
       "    </tr>\n",
       "    <tr>\n",
       "      <th>9524</th>\n",
       "      <td>True</td>\n",
       "      <td>False</td>\n",
       "      <td>False</td>\n",
       "    </tr>\n",
       "    <tr>\n",
       "      <th>9525</th>\n",
       "      <td>True</td>\n",
       "      <td>False</td>\n",
       "      <td>False</td>\n",
       "    </tr>\n",
       "    <tr>\n",
       "      <th>9526</th>\n",
       "      <td>False</td>\n",
       "      <td>True</td>\n",
       "      <td>False</td>\n",
       "    </tr>\n",
       "  </tbody>\n",
       "</table>\n",
       "<p>9527 rows × 3 columns</p>\n",
       "</div>"
      ],
      "text/plain": [
       "      DietType_0  DietType_1  DietType_2\n",
       "0           True       False       False\n",
       "1           True       False       False\n",
       "2           True       False       False\n",
       "3           True       False       False\n",
       "4          False        True       False\n",
       "...          ...         ...         ...\n",
       "9522        True       False       False\n",
       "9523        True       False       False\n",
       "9524        True       False       False\n",
       "9525        True       False       False\n",
       "9526       False        True       False\n",
       "\n",
       "[9527 rows x 3 columns]"
      ]
     },
     "execution_count": 33,
     "metadata": {},
     "output_type": "execute_result"
    }
   ],
   "source": [
    "data[['DietType_0', 'DietType_1', 'DietType_2']]"
   ]
  },
  {
   "cell_type": "markdown",
   "id": "e89cdda3-3be0-4307-922b-94b200497b6c",
   "metadata": {},
   "source": [
    "Split into X and y and test/train sets"
   ]
  },
  {
   "cell_type": "code",
   "execution_count": 57,
   "id": "df8631d5-f257-4181-86d6-e97d8704cf5e",
   "metadata": {},
   "outputs": [],
   "source": [
    "X = data.drop(columns = ['Outcome'])\n",
    "y = data['Outcome']\n",
    "\n",
    "X_train, X_test, y_train, y_test = train_test_split(X, y, test_size = 0.2, random_state= 69, stratify = y)"
   ]
  },
  {
   "cell_type": "markdown",
   "id": "67bc2303-3a74-49c0-8b5a-626fee3a66c0",
   "metadata": {},
   "source": [
    "Remember, our dataset is imbalanced. We'll calculate weights for each class using the scale_pos_weight parameter. It's not highly imbalanced so we done need to use inverse frequency."
   ]
  },
  {
   "cell_type": "code",
   "execution_count": 58,
   "id": "8f7af9f9-2a82-4bb7-9af3-3d8041cfeb68",
   "metadata": {},
   "outputs": [],
   "source": [
    "scale_pos_weight = zeroes/ones # We calculated the number of each class earlier"
   ]
  },
  {
   "cell_type": "code",
   "execution_count": 59,
   "id": "1dc38b8f-f11a-4502-8d0e-3d3c665533ce",
   "metadata": {},
   "outputs": [],
   "source": [
    "# Convert to DMatrix\n",
    "dtrain = xgb.DMatrix(X_train, label=y_train)\n",
    "dtest = xgb.DMatrix(X_test, label=y_test)"
   ]
  },
  {
   "cell_type": "markdown",
   "id": "784e066f-6810-4efe-ae8d-4a4aa127a7a7",
   "metadata": {},
   "source": [
    "Training time!"
   ]
  },
  {
   "cell_type": "code",
   "execution_count": 60,
   "id": "ff84779d-d2d3-44f3-b71b-3f5e35edcab8",
   "metadata": {},
   "outputs": [
    {
     "name": "stdout",
     "output_type": "stream",
     "text": [
      "[0]\tTest-logloss:0.59833\n",
      "[1]\tTest-logloss:0.52060\n",
      "[2]\tTest-logloss:0.45582\n",
      "[3]\tTest-logloss:0.40100\n",
      "[4]\tTest-logloss:0.35422\n",
      "[5]\tTest-logloss:0.31387\n",
      "[6]\tTest-logloss:0.27887\n",
      "[7]\tTest-logloss:0.24834\n",
      "[8]\tTest-logloss:0.22163\n",
      "[9]\tTest-logloss:0.19808\n",
      "[10]\tTest-logloss:0.17730\n",
      "[11]\tTest-logloss:0.15893\n",
      "[12]\tTest-logloss:0.14263\n",
      "[13]\tTest-logloss:0.12813\n",
      "[14]\tTest-logloss:0.11521\n",
      "[15]\tTest-logloss:0.10368\n",
      "[16]\tTest-logloss:0.09338\n",
      "[17]\tTest-logloss:0.08415\n",
      "[18]\tTest-logloss:0.07589\n",
      "[19]\tTest-logloss:0.06847\n",
      "[20]\tTest-logloss:0.06182\n",
      "[21]\tTest-logloss:0.05584\n",
      "[22]\tTest-logloss:0.05046\n",
      "[23]\tTest-logloss:0.04563\n",
      "[24]\tTest-logloss:0.04125\n",
      "[25]\tTest-logloss:0.03731\n",
      "[26]\tTest-logloss:0.03375\n",
      "[27]\tTest-logloss:0.03057\n",
      "[28]\tTest-logloss:0.02768\n",
      "[29]\tTest-logloss:0.02507\n",
      "[30]\tTest-logloss:0.02272\n",
      "[31]\tTest-logloss:0.02060\n",
      "[32]\tTest-logloss:0.01868\n",
      "[33]\tTest-logloss:0.01696\n",
      "[34]\tTest-logloss:0.01541\n",
      "[35]\tTest-logloss:0.01401\n",
      "[36]\tTest-logloss:0.01273\n",
      "[37]\tTest-logloss:0.01158\n",
      "[38]\tTest-logloss:0.01055\n",
      "[39]\tTest-logloss:0.00962\n",
      "[40]\tTest-logloss:0.00878\n",
      "[41]\tTest-logloss:0.00800\n",
      "[42]\tTest-logloss:0.00732\n",
      "[43]\tTest-logloss:0.00670\n",
      "[44]\tTest-logloss:0.00612\n",
      "[45]\tTest-logloss:0.00560\n",
      "[46]\tTest-logloss:0.00514\n",
      "[47]\tTest-logloss:0.00473\n",
      "[48]\tTest-logloss:0.00434\n",
      "[49]\tTest-logloss:0.00401\n",
      "[50]\tTest-logloss:0.00370\n",
      "[51]\tTest-logloss:0.00343\n",
      "[52]\tTest-logloss:0.00317\n",
      "[53]\tTest-logloss:0.00294\n",
      "[54]\tTest-logloss:0.00274\n",
      "[55]\tTest-logloss:0.00254\n",
      "[56]\tTest-logloss:0.00238\n",
      "[57]\tTest-logloss:0.00223\n",
      "[58]\tTest-logloss:0.00209\n",
      "[59]\tTest-logloss:0.00197\n",
      "[60]\tTest-logloss:0.00186\n",
      "[61]\tTest-logloss:0.00175\n",
      "[62]\tTest-logloss:0.00165\n",
      "[63]\tTest-logloss:0.00156\n",
      "[64]\tTest-logloss:0.00147\n",
      "[65]\tTest-logloss:0.00141\n",
      "[66]\tTest-logloss:0.00134\n",
      "[67]\tTest-logloss:0.00127\n",
      "[68]\tTest-logloss:0.00122\n",
      "[69]\tTest-logloss:0.00117\n",
      "[70]\tTest-logloss:0.00112\n",
      "[71]\tTest-logloss:0.00108\n",
      "[72]\tTest-logloss:0.00104\n",
      "[73]\tTest-logloss:0.00100\n",
      "[74]\tTest-logloss:0.00097\n",
      "[75]\tTest-logloss:0.00094\n",
      "[76]\tTest-logloss:0.00092\n",
      "[77]\tTest-logloss:0.00091\n",
      "[78]\tTest-logloss:0.00090\n",
      "[79]\tTest-logloss:0.00089\n",
      "[80]\tTest-logloss:0.00088\n",
      "[81]\tTest-logloss:0.00086\n",
      "[82]\tTest-logloss:0.00085\n",
      "[83]\tTest-logloss:0.00085\n",
      "[84]\tTest-logloss:0.00085\n",
      "[85]\tTest-logloss:0.00083\n",
      "[86]\tTest-logloss:0.00083\n",
      "[87]\tTest-logloss:0.00084\n",
      "[88]\tTest-logloss:0.00085\n",
      "[89]\tTest-logloss:0.00086\n",
      "[90]\tTest-logloss:0.00087\n",
      "[91]\tTest-logloss:0.00087\n",
      "[92]\tTest-logloss:0.00088\n",
      "[93]\tTest-logloss:0.00089\n",
      "[94]\tTest-logloss:0.00090\n",
      "[95]\tTest-logloss:0.00091\n",
      "[96]\tTest-logloss:0.00091\n",
      "[97]\tTest-logloss:0.00091\n",
      "[98]\tTest-logloss:0.00092\n",
      "[99]\tTest-logloss:0.00092\n",
      "Training time: 0.12 seconds\n"
     ]
    }
   ],
   "source": [
    "\n",
    "params = {\n",
    "    \"objective\": \"binary:logistic\",  # Binary classification\n",
    "    \"eval_metric\": \"logloss\",  # Log loss for classification\n",
    "    \"max_depth\": 6,\n",
    "    \"learning_rate\": 0.1,\n",
    "    \"scale_pos_weight\" : scale_pos_weight\n",
    "}\n",
    "\n",
    "start_time = time.time()\n",
    "\n",
    "model = xgb.train(params, dtrain, num_boost_round=100, evals=[(dtest, \"Test\")])\n",
    "\n",
    "end_time = time.time()\n",
    "\n",
    "print(f\"Training time: {end_time - start_time:.2f} seconds\")"
   ]
  },
  {
   "cell_type": "code",
   "execution_count": 61,
   "id": "9df7164f-4502-41d2-a100-a6d75fdac338",
   "metadata": {},
   "outputs": [
    {
     "name": "stdout",
     "output_type": "stream",
     "text": [
      "Accuracy: 0.9995\n"
     ]
    }
   ],
   "source": [
    "# and check it!\n",
    "\n",
    "y_pred = model.predict(dtest)\n",
    "y_pred_binary = [1 if p > 0.5 else 0 for p in y_pred]\n",
    "\n",
    "accuracy = accuracy_score(y_test, y_pred_binary)\n",
    "print(f\"Accuracy: {accuracy:.4f}\")"
   ]
  },
  {
   "cell_type": "markdown",
   "id": "df5d7915-43ac-4cec-bf6d-05515b39eea8",
   "metadata": {},
   "source": [
    "Wow! Great accuracy!\n",
    "We'll do a confusion matrix too for fun."
   ]
  },
  {
   "cell_type": "code",
   "execution_count": 62,
   "id": "b8aaacd8-1795-4db9-9529-4da2fb7bfe52",
   "metadata": {},
   "outputs": [
    {
     "data": {
      "image/png": "[encoded data removed]",
      "text/plain": [
       "<Figure size 600x500 with 2 Axes>"
      ]
     },
     "metadata": {},
     "output_type": "display_data"
    }
   ],
   "source": [
    "cm = confusion_matrix(y_test, y_pred_binary)\n",
    "\n",
    "# Visualize the confusion matrix using Seaborn\n",
    "plt.figure(figsize=(6, 5))\n",
    "sns.heatmap(cm, annot=True, fmt='d', cmap='Blues')\n",
    "plt.xlabel(\"Predicted Label\")\n",
    "plt.ylabel(\"True Label\")\n",
    "plt.title(\"Confusion Matrix\")\n",
    "plt.show()"
   ]
  },
  {
   "cell_type": "markdown",
   "id": "fbda33da-8b1b-4a99-86eb-df3dc48f902a",
   "metadata": {},
   "source": [
    "Neat! Only one incorrect prediction."
   ]
  },
  {
   "cell_type": "markdown",
   "id": "21d8fa11-8816-4e09-b805-a5a971f51cde",
   "metadata": {},
   "source": [
    " "
   ]
  },
  {
   "cell_type": "markdown",
   "id": "8702bd59-8153-42a0-97a1-acd3009515af",
   "metadata": {},
   "source": [
    "How about we create a balanced dataset with SMOTE (Synthetic Minority Oversampling Technique) to see if it generalizes well?"
   ]
  },
  {
   "cell_type": "code",
   "execution_count": 68,
   "id": "c2676bb5-3145-493d-8741-b61f288f65aa",
   "metadata": {},
   "outputs": [
    {
     "name": "stdout",
     "output_type": "stream",
     "text": [
      "There are 6247 rows that belong to class 0, a ratio of 1:1\n"
     ]
    }
   ],
   "source": [
    "from imblearn.over_sampling import SMOTE\n",
    "\n",
    "smote = SMOTE(random_state=69)\n",
    "\n",
    "X_resampled, y_resampled = smote.fit_resample(X, y)\n",
    "\n",
    "dtest_balanced = xgb.DMatrix(X_resampled, label = y_resampled)\n",
    "\n",
    "ones_balanced = sum(y_resampled)\n",
    "zeroes_balanced = len(y_resampled) - ones_balanced\n",
    "\n",
    "print(f\"There are {zeroes_balanced} rows that belong to class 0, a ratio of {zeroes_balanced/ones_balanced:.0f}:1\")"
   ]
  },
  {
   "cell_type": "code",
   "execution_count": 69,
   "id": "f19102e8-8712-49d8-89c5-ca2de3ed9076",
   "metadata": {},
   "outputs": [
    {
     "name": "stdout",
     "output_type": "stream",
     "text": [
      "Accuracy: 0.9936\n"
     ]
    }
   ],
   "source": [
    "y_pred_balanced = model.predict(dtest_balanced)\n",
    "y_pred_binary_balanced = [1 if p > 0.5 else 0 for p in y_pred_balanced]\n",
    "\n",
    "accuracy_balanced = accuracy_score(y_resampled, y_pred_binary_balanced)\n",
    "print(f\"Accuracy: {accuracy_balanced:.4f}\")"
   ]
  },
  {
   "cell_type": "markdown",
   "id": "55ab7c2b-277e-4c70-87bf-01a173ae2b62",
   "metadata": {},
   "source": [
    "Still really good! For fun, let's try retraining and retesting both datasets *without* class weights."
   ]
  },
  {
   "cell_type": "code",
   "execution_count": 73,
   "id": "926f1c80-4774-4aef-89eb-6b4a24301877",
   "metadata": {},
   "outputs": [
    {
     "name": "stdout",
     "output_type": "stream",
     "text": [
      "Training time: 0.06 seconds\n",
      "\n",
      "Accuracy: 0.9995\n"
     ]
    }
   ],
   "source": [
    "\n",
    "params = {\n",
    "    \"objective\": \"binary:logistic\",  # Binary classification\n",
    "    \"eval_metric\": \"logloss\",  # Log loss for classification\n",
    "    \"max_depth\": 6,\n",
    "    \"learning_rate\": 0.1\n",
    "}\n",
    "\n",
    "start_time = time.time()\n",
    "\n",
    "model = xgb.train(params, dtrain, num_boost_round=100, evals=[(dtest, \"Test\")], verbose_eval=0)\n",
    "\n",
    "end_time = time.time()\n",
    "\n",
    "print(f\"Training time: {end_time - start_time:.2f} seconds\\n\")\n",
    "\n",
    "y_pred = model.predict(dtest)\n",
    "y_pred_binary = [1 if p > 0.5 else 0 for p in y_pred]\n",
    "\n",
    "accuracy = accuracy_score(y_test, y_pred_binary)\n",
    "print(f\"Accuracy: {accuracy:.4f}\")"
   ]
  },
  {
   "cell_type": "code",
   "execution_count": 74,
   "id": "0054b852-7e66-4821-934a-3a0d402a5c41",
   "metadata": {},
   "outputs": [
    {
     "name": "stdout",
     "output_type": "stream",
     "text": [
      "Accuracy: 0.9936\n"
     ]
    }
   ],
   "source": [
    "y_pred_balanced = model.predict(dtest_balanced)\n",
    "y_pred_binary_balanced = [1 if p > 0.5 else 0 for p in y_pred_balanced]\n",
    "\n",
    "accuracy_balanced = accuracy_score(y_resampled, y_pred_binary_balanced)\n",
    "print(f\"Accuracy: {accuracy_balanced:.4f}\")"
   ]
  },
  {
   "cell_type": "markdown",
   "id": "96b3210b-8fb6-4384-9753-18bf465d5de7",
   "metadata": {},
   "source": [
    "Interesting. No change in accuracy, granted the dataset was not *that* imbalanced. "
   ]
  },
  {
   "cell_type": "code",
   "execution_count": null,
   "id": "e202854c-4d07-490c-88ef-b72c7801d52c",
   "metadata": {},
   "outputs": [],
   "source": []
  }
 ],
 "metadata": {
  "kernelspec": {
   "display_name": "Python 3 (ipykernel)",
   "language": "python",
   "name": "python3"
  },
  "language_info": {
   "codemirror_mode": {
    "name": "ipython",
    "version": 3
   },
   "file_extension": ".py",
   "mimetype": "text/x-python",
   "name": "python",
   "nbconvert_exporter": "python",
   "pygments_lexer": "ipython3",
   "version": "3.12.9"
  }
 },
 "nbformat": 4,
 "nbformat_minor": 5
}
